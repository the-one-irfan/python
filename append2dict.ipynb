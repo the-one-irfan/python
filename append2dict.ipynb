{
 "cells": [
  {
   "cell_type": "code",
   "execution_count": 1,
   "metadata": {},
   "outputs": [],
   "source": [
    "nigeria={\n",
    "    'lagos':['surulere', 'ikeja', 'apapa'],\n",
    "    'abuja':['maitama', 'gwarinpa', 'kuje'],\n",
    "    'adamawa':['tola', 'jimeta', 'yola']\n",
    "}"
   ]
  },
  {
   "cell_type": "code",
   "execution_count": 4,
   "metadata": {},
   "outputs": [],
   "source": [
    "nigeria['abuja'][1]='kubwa'"
   ]
  },
  {
   "cell_type": "code",
   "execution_count": 5,
   "metadata": {},
   "outputs": [
    {
     "data": {
      "text/plain": [
       "{'lagos': ['surulere', 'ikeja', 'apapa'],\n",
       " 'abuja': ['maitama', 'kubwa', 'kuje'],\n",
       " 'adamawa': ['tola', 'jimeta', 'yola']}"
      ]
     },
     "execution_count": 5,
     "metadata": {},
     "output_type": "execute_result"
    }
   ],
   "source": [
    "nigeria"
   ]
  },
  {
   "cell_type": "code",
   "execution_count": 6,
   "metadata": {},
   "outputs": [],
   "source": [
    "nigeria['abuja'].append('bwari')"
   ]
  },
  {
   "cell_type": "code",
   "execution_count": 7,
   "metadata": {},
   "outputs": [
    {
     "data": {
      "text/plain": [
       "{'lagos': ['surulere', 'ikeja', 'apapa'],\n",
       " 'abuja': ['maitama', 'kubwa', 'kuje', 'bwari'],\n",
       " 'adamawa': ['tola', 'jimeta', 'yola']}"
      ]
     },
     "execution_count": 7,
     "metadata": {},
     "output_type": "execute_result"
    }
   ],
   "source": [
    "nigeria"
   ]
  },
  {
   "cell_type": "code",
   "execution_count": null,
   "metadata": {},
   "outputs": [],
   "source": []
  }
 ],
 "metadata": {
  "kernelspec": {
   "display_name": "Python 3",
   "language": "python",
   "name": "python3"
  },
  "language_info": {
   "codemirror_mode": {
    "name": "ipython",
    "version": 3
   },
   "file_extension": ".py",
   "mimetype": "text/x-python",
   "name": "python",
   "nbconvert_exporter": "python",
   "pygments_lexer": "ipython3",
   "version": "3.7.3"
  }
 },
 "nbformat": 4,
 "nbformat_minor": 2
}
