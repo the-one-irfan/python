{
 "cells": [
  {
   "cell_type": "code",
   "execution_count": 1,
   "metadata": {},
   "outputs": [],
   "source": [
    "stateName= {\n",
    "    'abia': ['NGN80billion', '40million', '200thousand sqkm'], \n",
    "    'adamawa':['NGN450million', '43million', '54thousand sqkm'] , \n",
    "    'akwa-ibom':['NGN65billion', '34million', '72thousand sqkm'], \n",
    "    'anambra':['NGN76billion','87million', '65thousand sqkm'],\n",
    "    'bauchi':['NGN90billion', '34million', '52thousand sqkm'], \n",
    "    'bayelsa':['NGN35billion', '49million', '52thousand sqkm'], \n",
    "    'benue':['NGN23billion', '87million', '76thousand sqkm'], \n",
    "    'borno':['NGN59billion', '10million', '78thousand sqkm'], \n",
    "    'cross-river':['NGN46billion', '21million', '46thousand sqkm'] , \n",
    "    'delta':['NGN27billion', '73million', '62thousand sqkm']\n",
    "}"
   ]
  },
  {
   "cell_type": "code",
   "execution_count": 2,
   "metadata": {},
   "outputs": [],
   "source": [
    "def StatesInfo():\n",
    "    \n",
    "    state=str(input('enter state name\\n'))\n",
    "    \n",
    "    \n",
    "    while state in stateName:\n",
    "        print(stateName[state])\n",
    "        print('do you want to continue?')\n",
    "\n",
    "        answerMem=['y','n']\n",
    "        answer=str(input('type \"y\" for yes, \"n\" for no:\\n'))\n",
    "        while answer not in answerMem:\n",
    "            print(f'invalid command. you typed {answer}. answer must be either \"y\" or \"n\".')\n",
    "            answer=str(input('\\ntype \"y\" for yes, \"n\" for no:\\n'))\n",
    "\n",
    "        else:\n",
    "            if answer=='y':\n",
    "                state=str(input('enter state name\\n'))\n",
    "                \n",
    "            elif answer=='n':\n",
    "                print('alright then. see you next time.')\n",
    "                break\n",
    "\n",
    "\n",
    "    while state not in stateName:\n",
    "        print(f'the state \"{state}\" is either incorrect or does not exist in this list.')\n",
    "        print('do you want to continue?')\n",
    "\n",
    "        answerMem=['y','n']\n",
    "        answer=str(input('type \"y\" for yes, \"n\" for no:\\n'))\n",
    "        while answer not in answerMem:\n",
    "            print(f'invalid command. you typed {answer}. answer must be either \"y\" or \"n\".')\n",
    "            answer=str(input('\\ntype \"y\" for yes, \"n\" for no:\\n'))\n",
    "        else:\n",
    "            if answer=='y':\n",
    "                state=str(input('enter state name\\n'))\n",
    "                \n",
    "                while state in stateName:\n",
    "                    print(stateName[state])\n",
    "                    print('do you want to continue?')\n",
    "\n",
    "                    answerMem=['y','n']\n",
    "                    answer=str(input('type \"y\" for yes, \"n\" for no:\\n'))\n",
    "                    while answer not in answerMem:\n",
    "                        print(f'invalid command. you typed {answer}. answer must be either \"y\" or \"n\".')\n",
    "                        answer=str(input('\\ntype \"y\" for yes, \"n\" for no:\\n'))\n",
    "\n",
    "                    else:\n",
    "                        if answer=='y':\n",
    "                            state=str(input('enter state name\\n'))\n",
    "                            \n",
    "\n",
    "                        elif answer=='n':\n",
    "                            print('alright then. see you next time.')\n",
    "                            break\n",
    "\n",
    "\n",
    "\n",
    "            elif answer=='n':\n",
    "                print('alright then. see you next time.')\n",
    "                break"
   ]
  },
  {
   "cell_type": "code",
   "execution_count": null,
   "metadata": {},
   "outputs": [
    {
     "name": "stdout",
     "output_type": "stream",
     "text": [
      "enter state name\n",
      "abia\n",
      "['NGN80billion', '40million', '200thousand sqkm']\n",
      "do you want to continue?\n"
     ]
    }
   ],
   "source": [
    "StatesInfo()"
   ]
  },
  {
   "cell_type": "code",
   "execution_count": null,
   "metadata": {},
   "outputs": [],
   "source": []
  }
 ],
 "metadata": {
  "kernelspec": {
   "display_name": "Python 3",
   "language": "python",
   "name": "python3"
  },
  "language_info": {
   "codemirror_mode": {
    "name": "ipython",
    "version": 3
   },
   "file_extension": ".py",
   "mimetype": "text/x-python",
   "name": "python",
   "nbconvert_exporter": "python",
   "pygments_lexer": "ipython3",
   "version": "3.7.3"
  }
 },
 "nbformat": 4,
 "nbformat_minor": 2
}
