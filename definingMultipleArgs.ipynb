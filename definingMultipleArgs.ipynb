{
 "cells": [
  {
   "cell_type": "code",
   "execution_count": 19,
   "metadata": {},
   "outputs": [],
   "source": [
    "def multiplyBy5(a,b,c=0):\n",
    "    result = sum((a,b,c))*5\n",
    "    return result"
   ]
  },
  {
   "cell_type": "code",
   "execution_count": 21,
   "metadata": {},
   "outputs": [
    {
     "data": {
      "text/plain": [
       "80"
      ]
     },
     "execution_count": 21,
     "metadata": {},
     "output_type": "execute_result"
    }
   ],
   "source": [
    "multiplyBy5(6,10)"
   ]
  },
  {
   "cell_type": "code",
   "execution_count": 26,
   "metadata": {},
   "outputs": [],
   "source": [
    "def multiplyBy2(*args):\n",
    "    return sum(args)*2"
   ]
  },
  {
   "cell_type": "code",
   "execution_count": 27,
   "metadata": {},
   "outputs": [
    {
     "data": {
      "text/plain": [
       "48"
      ]
     },
     "execution_count": 27,
     "metadata": {},
     "output_type": "execute_result"
    }
   ],
   "source": [
    "multiplyBy2(7,8,9)"
   ]
  },
  {
   "cell_type": "code",
   "execution_count": 38,
   "metadata": {},
   "outputs": [],
   "source": [
    "def find5Percent(*args):\n",
    "    print(args)\n",
    "    return sum(args)*0.05"
   ]
  },
  {
   "cell_type": "code",
   "execution_count": 41,
   "metadata": {},
   "outputs": [
    {
     "name": "stdout",
     "output_type": "stream",
     "text": [
      "(5, 15)\n"
     ]
    },
    {
     "data": {
      "text/plain": [
       "1.0"
      ]
     },
     "execution_count": 41,
     "metadata": {},
     "output_type": "execute_result"
    }
   ],
   "source": [
    "find5Percent(5,15)"
   ]
  },
  {
   "cell_type": "code",
   "execution_count": 49,
   "metadata": {},
   "outputs": [],
   "source": [
    "def myLanguages(**kwargs):\n",
    "    print(kwargs)\n",
    "    if 'python' in kwargs:\n",
    "        print('language found.')\n",
    "        \n",
    "    else:\n",
    "        print('language not found')"
   ]
  },
  {
   "cell_type": "code",
   "execution_count": 50,
   "metadata": {},
   "outputs": [
    {
     "name": "stdout",
     "output_type": "stream",
     "text": [
      "{'python': 'python 3.0', 'swift': 'apple swift'}\n",
      "language found.\n"
     ]
    }
   ],
   "source": [
    "myLanguages(python = 'python 3.0', swift = 'apple swift')"
   ]
  },
  {
   "cell_type": "code",
   "execution_count": 66,
   "metadata": {},
   "outputs": [],
   "source": [
    "#excercise: Profit and loss account.\n",
    "def revenue(*args):\n",
    "    revenue = sum(args)\n",
    "    return revenue\n",
    "    \n",
    "def expenses(*args):\n",
    "    expenses = sum(args)\n",
    "    return expenses\n",
    "    \n",
    "#if revenue > expenses:\n",
    "    "
   ]
  },
  {
   "cell_type": "code",
   "execution_count": 67,
   "metadata": {},
   "outputs": [],
   "source": [
    "rev = revenue(60, 50, 50)\n",
    "exp = expenses(20, 40, 80)"
   ]
  },
  {
   "cell_type": "code",
   "execution_count": 68,
   "metadata": {},
   "outputs": [
    {
     "name": "stdout",
     "output_type": "stream",
     "text": [
      "The profit is 20 and percentage profit is 14.285714285714285.\n"
     ]
    }
   ],
   "source": [
    "if rev > exp:\n",
    "    profit = rev - exp\n",
    "    percentageProfit = (profit/exp)*100\n",
    "    print(f\"The profit is {profit} and percentage profit is {percentageProfit}.\")\n",
    "+\n",
    "elif exp > rev:\n",
    "    loss = exp - rev\n",
    "    percentageLoss = (loss/exp)*100\n",
    "    print(f\"The loss is {loss} and percentage loss is {percentageLoss}.\")"
   ]
  },
  {
   "cell_type": "code",
   "execution_count": 64,
   "metadata": {},
   "outputs": [
    {
     "name": "stdout",
     "output_type": "stream",
     "text": [
      "None\n"
     ]
    }
   ],
   "source": [
    "print(rev)"
   ]
  },
  {
   "cell_type": "code",
   "execution_count": null,
   "metadata": {},
   "outputs": [],
   "source": []
  }
 ],
 "metadata": {
  "kernelspec": {
   "display_name": "Python 3",
   "language": "python",
   "name": "python3"
  },
  "language_info": {
   "codemirror_mode": {
    "name": "ipython",
    "version": 3
   },
   "file_extension": ".py",
   "mimetype": "text/x-python",
   "name": "python",
   "nbconvert_exporter": "python",
   "pygments_lexer": "ipython3",
   "version": "3.7.3"
  }
 },
 "nbformat": 4,
 "nbformat_minor": 2
}
