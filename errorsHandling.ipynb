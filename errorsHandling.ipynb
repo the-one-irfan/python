{
 "cells": [
  {
   "cell_type": "code",
   "execution_count": 5,
   "metadata": {},
   "outputs": [
    {
     "name": "stdout",
     "output_type": "stream",
     "text": [
      "Enter a number.9\n",
      "Enter a number.7\n",
      "Enter a number.8\n",
      "Enter a number.0\n",
      "The mean of [9, 7, 8, 0] is 6\n",
      "this line of code runs wether there's an error or not\n"
     ]
    }
   ],
   "source": [
    "try: \n",
    "    num = 1\n",
    "    num_list =[]\n",
    "    \n",
    "    while num != 0:\n",
    "        num = int(input('Enter a number.'))\n",
    "        num_list.append(num)\n",
    "#    modu = input('Import your module.')\n",
    "    import statistics as modu\n",
    "    \n",
    "except ValueError:\n",
    "    print('You have entered a non-integer value.')\n",
    "    \n",
    "except:\n",
    "    print('An error has occured')\n",
    "else:\n",
    "    \n",
    "    result = modu.mean(num_list)\n",
    "    print(f'The mean of {num_list} is {result}')\n",
    "finally:\n",
    "    print('this line of code runs wether there\\'s an error or not')"
   ]
  },
  {
   "cell_type": "code",
   "execution_count": null,
   "metadata": {},
   "outputs": [],
   "source": [
    "#A tax deduction system. Deduction is based on company type.\n",
    "#There are 3 different type of taxes: VAT:5%, IT:15%, COP = 3%\n",
    "#Applicable charges for different business types are as follows:\n",
    "#1. Enterprise: VAT: 5%\n",
    "#2. Company: VAT: 5% + IT: 15%\n",
    "#3. Corporation: VAT: 5% + IT: 15% + COP = 3%"
   ]
  },
  {
   "cell_type": "code",
   "execution_count": 7,
   "metadata": {},
   "outputs": [],
   "source": [
    "entities = {\n",
    "    'DG':['Dangote Ltd', 'Corporation', 45000700],\n",
    "    'FO':['Forte Oil Ltd.', 'Company', 31600700],\n",
    "    'DH':['Developer\\'s Hub Ltd.', 'Enterprise', 25000700]  \n",
    "}"
   ]
  },
  {
   "cell_type": "code",
   "execution_count": 8,
   "metadata": {},
   "outputs": [
    {
     "name": "stdout",
     "output_type": "stream",
     "text": [
      "\n",
      "Type DG for Dangote Ltd\n",
      "Type FO for Forte Oil Ltd\n",
      "Type DH for Developer's Hub Ltd\n",
      "\n",
      "Enter company name.dg\n",
      "Dangote Ltd as a Corporation attracted 23% charges on its revenue of NGN45000700. This means that tax deduction for Dangote Ltd is NGN10350161.0\n"
     ]
    }
   ],
   "source": [
    "print('''\n",
    "Type DG for Dangote Ltd\n",
    "Type FO for Forte Oil Ltd\n",
    "Type DH for Developer\\'s Hub Ltd\n",
    "''')\n",
    "Company = input('Enter company name.')\n",
    "company = Company.upper()\n",
    "if entities[company][1] == 'Corporation':\n",
    "    charges = entities[company][2]*0.23\n",
    "    print(f'{entities[company][0]} as a {entities[company][1]} attracted 23% charges on its revenue of NGN{entities[company][2]}. This means that tax deduction for {entities[company][0]} is NGN{charges}')\n",
    "    \n",
    "if entities[company][1] == 'Company':\n",
    "    charges = entities[company][2]*0.23\n",
    "    print(f'{entities[company][0]} as a {entities[company][1]} attracted 20% charges on its revenue of NGN{entities[company][2]}. This means that tax deduction for {entities[company][0]} is NGN{charges}')\n",
    "      \n",
    "if entities[company][1] == 'Enterprise':\n",
    "    charges = entities[company][2]*0.23\n",
    "    print(f'{entities[company][0]} as a {entities[company][1]} attracted 5% charges on its revenue of NGN{entities[company][2]}. This means that tax deduction for {entities[company][0]} is NGN{charges}')\n",
    "    \n",
    "while company not in entities:\n",
    "    print('invalid input')\n",
    "    print('''\n",
    "Type DG for Dangote Ltd\n",
    "Type FO for Forte Oil Ltd\n",
    "Type DH for Developer\\'s Hub Ltd\n",
    "''')\n",
    "    Company = input('Enter company name.')\n",
    "    company = Company.upper()\n"
   ]
  },
  {
   "cell_type": "code",
   "execution_count": null,
   "metadata": {},
   "outputs": [],
   "source": []
  }
 ],
 "metadata": {
  "kernelspec": {
   "display_name": "Python 3",
   "language": "python",
   "name": "python3"
  },
  "language_info": {
   "codemirror_mode": {
    "name": "ipython",
    "version": 3
   },
   "file_extension": ".py",
   "mimetype": "text/x-python",
   "name": "python",
   "nbconvert_exporter": "python",
   "pygments_lexer": "ipython3",
   "version": "3.7.3"
  }
 },
 "nbformat": 4,
 "nbformat_minor": 2
}
