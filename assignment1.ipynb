{
 "cells": [
  {
   "cell_type": "code",
   "execution_count": 1,
   "metadata": {},
   "outputs": [],
   "source": [
    "#create a list of 6 values (add and delete values from the list)\n",
    "#find any range of index for the list\n",
    "#turn the list into a dictionary\n",
    "#access the values of the list\n",
    "#create a tuple\n",
    "#create an input function that will collect the name, age, department, and phone no. of students and assign them to a... \n",
    "#(continuation.)variable and call the variable holding each info.\n"
   ]
  },
  {
   "cell_type": "code",
   "execution_count": 5,
   "metadata": {},
   "outputs": [],
   "source": [
    "#list with six values\n",
    "cars=[\"aventador\", \"supra\", \"paganani\", \"mustang\", \"camaro\"]"
   ]
  },
  {
   "cell_type": "code",
   "execution_count": 2,
   "metadata": {},
   "outputs": [
    {
     "data": {
      "text/plain": [
       "['supra', 'paganani']"
      ]
     },
     "execution_count": 2,
     "metadata": {},
     "output_type": "execute_result"
    }
   ],
   "source": [
    "#range of index\n",
    "cars[1:3]"
   ]
  },
  {
   "cell_type": "code",
   "execution_count": 3,
   "metadata": {},
   "outputs": [],
   "source": [
    "#turning a list into a dictionary\n",
    "keys=[\"name\", \"age\", \"adress\", \"school\", \"hobbies\"]\n",
    "values=[\"salma\", 19, \"opp. dayspring, Bakori road Kubwa-abuja.\", \"Futminna\", [\"reading\", \"listening to music.\"]]\n",
    "biography= dict(zip(keys, values))"
   ]
  },
  {
   "cell_type": "code",
   "execution_count": 4,
   "metadata": {},
   "outputs": [
    {
     "data": {
      "text/plain": [
       "dict"
      ]
     },
     "execution_count": 4,
     "metadata": {},
     "output_type": "execute_result"
    }
   ],
   "source": [
    "#getting the type of a variable\n",
    "type(biography)"
   ]
  },
  {
   "cell_type": "code",
   "execution_count": 5,
   "metadata": {},
   "outputs": [
    {
     "name": "stdout",
     "output_type": "stream",
     "text": [
      "dict_keys(['name', 'age', 'adress', 'school', 'hobbies'])\n"
     ]
    }
   ],
   "source": [
    "#displaying a dictionary's keys\n",
    "print(biography.keys())"
   ]
  },
  {
   "cell_type": "code",
   "execution_count": 6,
   "metadata": {},
   "outputs": [
    {
     "name": "stdout",
     "output_type": "stream",
     "text": [
      "dict_values(['salma', 19, 'opp. dayspring, Bakori road Kubwa-abuja.', 'Futminna', ['reading', 'listening to music.']])\n"
     ]
    }
   ],
   "source": [
    "#displaying a dictionary's values\n",
    "print(biography.values())"
   ]
  },
  {
   "cell_type": "code",
   "execution_count": 7,
   "metadata": {},
   "outputs": [
    {
     "data": {
      "text/plain": [
       "{'name': 'salma',\n",
       " 'age': 19,\n",
       " 'adress': 'opp. dayspring, Bakori road Kubwa-abuja.',\n",
       " 'school': 'Futminna',\n",
       " 'hobbies': ['reading', 'listening to music.']}"
      ]
     },
     "execution_count": 7,
     "metadata": {},
     "output_type": "execute_result"
    }
   ],
   "source": [
    "#displaying a dictionary's output\n",
    "biography"
   ]
  },
  {
   "cell_type": "code",
   "execution_count": 8,
   "metadata": {},
   "outputs": [
    {
     "data": {
      "text/plain": [
       "'name'"
      ]
     },
     "execution_count": 8,
     "metadata": {},
     "output_type": "execute_result"
    }
   ],
   "source": [
    "#accessing a list\n",
    "keys[0]"
   ]
  },
  {
   "cell_type": "code",
   "execution_count": 9,
   "metadata": {},
   "outputs": [
    {
     "data": {
      "text/plain": [
       "tuple"
      ]
     },
     "execution_count": 9,
     "metadata": {},
     "output_type": "execute_result"
    }
   ],
   "source": [
    "#creating a tuple\n",
    "clothes=(\"trousers\", \"jacket\", \"cap\", \"t-shirt\")\n",
    "#confirming variable type\n",
    "type(clothes)"
   ]
  },
  {
   "cell_type": "code",
   "execution_count": 10,
   "metadata": {},
   "outputs": [
    {
     "name": "stdout",
     "output_type": "stream",
     "text": [
      " enter your name: \n",
      "\n",
      "mohammed\n",
      "\n",
      " enter your age: \n",
      "\n",
      "18\n",
      "\n",
      " enter your department: \n",
      "\n",
      "cpe\n",
      "\n",
      " enter your phone number: \n",
      " \n",
      "09017001712\n"
     ]
    }
   ],
   "source": [
    "#data to collect from user- name, age, department & phone number.\n",
    "username=input(\" enter your name: \\n\\n\")\n",
    "age=input(\"\\n enter your age: \\n\\n\")\n",
    "department=input(\"\\n enter your department: \\n\\n\")\n",
    "phone_number=input(\"\\n enter your phone number: \\n \\n\")\n"
   ]
  },
  {
   "cell_type": "code",
   "execution_count": 11,
   "metadata": {},
   "outputs": [
    {
     "name": "stdout",
     "output_type": "stream",
     "text": [
      "mohammed welcome back.The lesson time table for cpe will be sent to you via your \n",
      "phone number:09017001712. \n",
      "\n",
      "Have a splendid semester!\n"
     ]
    }
   ],
   "source": [
    "print(username +\" welcome back.The lesson time table for \"+ department + \" will be sent to you via your \\nphone number:\" +(phone_number) + \". \\n\\nHave a splendid semester!\")"
   ]
  },
  {
   "cell_type": "code",
   "execution_count": null,
   "metadata": {},
   "outputs": [],
   "source": []
  }
 ],
 "metadata": {
  "kernelspec": {
   "display_name": "Python 3",
   "language": "python",
   "name": "python3"
  },
  "language_info": {
   "codemirror_mode": {
    "name": "ipython",
    "version": 3
   },
   "file_extension": ".py",
   "mimetype": "text/x-python",
   "name": "python",
   "nbconvert_exporter": "python",
   "pygments_lexer": "ipython3",
   "version": "3.7.3"
  }
 },
 "nbformat": 4,
 "nbformat_minor": 2
}
