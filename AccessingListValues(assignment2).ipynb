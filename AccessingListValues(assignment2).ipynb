{
 "cells": [
  {
   "cell_type": "code",
   "execution_count": null,
   "metadata": {},
   "outputs": [],
   "source": [
    "#subtract starting date cpi from present date cpi and divide by starting date cpi then multiply by 100.\n",
    "#write a dictionary. the keys will be the name of state. the values will be the revenue, population, land mass. when we call \n",
    "#state info it takes an argument to retrieve the values on the state. "
   ]
  },
  {
   "cell_type": "code",
   "execution_count": null,
   "metadata": {},
   "outputs": [],
   "source": [
    "#function to calculate inflation rate...\n",
    "\n",
    "def inf_rate():\n",
    "    st_dt = input(\"Starting date: \\n\")\n",
    "    en_dt = input(\"\\nEnding date: \\n\")\n",
    "    cpi1 = int(input(\"\\nStarting date CPI: \\n\"))\n",
    "    cpi2 = int(input(\"\\nEnding date CPI: \\n\"))\n",
    "    result = ((cpi2-cpi1)/cpi1) * 100\n",
    "    print(f\"\\nThe inflation rate between {str(st_dt)} & {str(en_dt)} is {str(result)} %.\")"
   ]
  },
  {
   "cell_type": "code",
   "execution_count": null,
   "metadata": {},
   "outputs": [],
   "source": [
    "inf_rate()"
   ]
  },
  {
   "cell_type": "code",
   "execution_count": null,
   "metadata": {},
   "outputs": [],
   "source": [
    "def stateInfo():\n",
    "    state=str(input(\"what's the name of the state?\"))\n",
    "    pop=float(input(\"what's the current population?\"))\n",
    "    landMass=float(input(\"what's the land mass?\"))\n",
    "    gdp=float(input(\"what's the value of gdp?\"))\n",
    "    pc=(gdp*1000000000)/(pop*1000000)\n",
    "    pd=(pop*1000000)/(landMass*1000)\n",
    "    \n",
    "    print(f\"the population density of {state} is {pd} per capita income is NGN{pc}.\")"
   ]
  },
  {
   "cell_type": "code",
   "execution_count": null,
   "metadata": {},
   "outputs": [],
   "source": [
    "stateInfo()"
   ]
  },
  {
   "cell_type": "code",
   "execution_count": 10,
   "metadata": {},
   "outputs": [],
   "source": [
    "states_info= {\n",
    "    'abia': ['NGN80billion', 'NGN40million', '200thousand sqkm'], \n",
    "    'adamawa':['NGN450million', 'NGN43million', '54thousand'] , \n",
    "    'akwa-ibom':['NGN65billion', 'NGN34million', '72thousand'], \n",
    "    'anambra':['NGN76billion','NGN87million', '65thousand sqkm'],\n",
    "    'bauchi':['NGN90billion', 'NGN34million', '52thousand sqkm'], \n",
    "    'bayelsa':['NGN35billion', 'NGN49million', '52thousand sqkm'], \n",
    "    'benue':['NGN23billion', 'NGN87million', '76thousand sqkm'], \n",
    "    'borno':['NGN59billion', 'NGN10million', '78thousand sqkm'], \n",
    "    'cross-river':['NGN46billion', 'NGN21million', '46thousand sqkm'] , \n",
    "    'delta':['NGN27billion', 'NGN73million', '62thousand sqkm']\n",
    "\n",
    "    \n",
    "}"
   ]
  },
  {
   "cell_type": "code",
   "execution_count": 9,
   "metadata": {},
   "outputs": [
    {
     "data": {
      "text/plain": [
       "['NGN80billion', 'NGN40million', '200thousand sqkm']"
      ]
     },
     "execution_count": 9,
     "metadata": {},
     "output_type": "execute_result"
    }
   ],
   "source": [
    "states_info['abia']"
   ]
  },
  {
   "cell_type": "code",
   "execution_count": 13,
   "metadata": {},
   "outputs": [
    {
     "name": "stdout",
     "output_type": "stream",
     "text": [
      "enter name of state: \n",
      "adamawa\n",
      "['NGN450million', 'NGN43million', '54thousand']\n"
     ]
    }
   ],
   "source": [
    "StatesInfo()"
   ]
  },
  {
   "cell_type": "code",
   "execution_count": 5,
   "metadata": {},
   "outputs": [],
   "source": [
    "li=['africa', 'asia']"
   ]
  },
  {
   "cell_type": "code",
   "execution_count": 8,
   "metadata": {},
   "outputs": [
    {
     "data": {
      "text/plain": [
       "('africaland', 'asiacontinent')"
      ]
     },
     "execution_count": 8,
     "metadata": {},
     "output_type": "execute_result"
    }
   ],
   "source": [
    "li[0]+'land', li[1]+'continent'"
   ]
  },
  {
   "cell_type": "code",
   "execution_count": 2,
   "metadata": {},
   "outputs": [],
   "source": [
    "li={'africa':['45million', '34thousand sqkm']}"
   ]
  },
  {
   "cell_type": "code",
   "execution_count": 3,
   "metadata": {},
   "outputs": [
    {
     "data": {
      "text/plain": [
       "['45million', '34thousand sqkm']"
      ]
     },
     "execution_count": 3,
     "metadata": {},
     "output_type": "execute_result"
    }
   ],
   "source": [
    "li['africa']"
   ]
  },
  {
   "cell_type": "code",
   "execution_count": 20,
   "metadata": {},
   "outputs": [],
   "source": [
    "li2=li"
   ]
  },
  {
   "cell_type": "code",
   "execution_count": 21,
   "metadata": {},
   "outputs": [
    {
     "data": {
      "text/plain": [
       "('45million people', 'landmass of 34thousand sqkm')"
      ]
     },
     "execution_count": 21,
     "metadata": {},
     "output_type": "execute_result"
    }
   ],
   "source": [
    "li2['africa'][0]+' people', 'landmass of '+ li2['africa'][1]"
   ]
  },
  {
   "cell_type": "code",
   "execution_count": null,
   "metadata": {},
   "outputs": [],
   "source": []
  },
  {
   "cell_type": "code",
   "execution_count": 11,
   "metadata": {},
   "outputs": [],
   "source": [
    "#might be important\n",
    "\n",
    "def StatesInfo():\n",
    "    state=str(input('enter name of state: \\n'))\n",
    "    \n",
    "    if state=='abia':\n",
    "        print(states_info['abia'])\n",
    "       \n",
    "    elif state=='adamawa':\n",
    "        print(states_info['adamawa'])\n",
    "\n",
    "    elif state=='anambra':\n",
    "        print(states_info['anambra'])\n",
    "\n",
    "    elif state=='bauchi':\n",
    "        print(states_info['bauchi'])\n",
    "\n",
    "    elif state=='bayelsa':\n",
    "        print(states_info['bayelsa'])\n",
    "\n",
    "    elif state=='benue':\n",
    "        print(states_info['benue'])\n",
    "\n",
    "    elif state=='borno':\n",
    "        print(states_info['borno'])\n",
    "\n",
    "    elif state=='cross-river':\n",
    "        print(states_info['cross-river'])\n",
    "\n",
    "    elif state=='delta':\n",
    "        print(states_info['delta'])\n",
    "\n",
    "    elif state=='akwa-ibom':\n",
    "        print(states_info['akwa-ibom'])"
   ]
  }
 ],
 "metadata": {
  "kernelspec": {
   "display_name": "Python 3",
   "language": "python",
   "name": "python3"
  },
  "language_info": {
   "codemirror_mode": {
    "name": "ipython",
    "version": 3
   },
   "file_extension": ".py",
   "mimetype": "text/x-python",
   "name": "python",
   "nbconvert_exporter": "python",
   "pygments_lexer": "ipython3",
   "version": "3.7.3"
  }
 },
 "nbformat": 4,
 "nbformat_minor": 2
}
