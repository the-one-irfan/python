{
 "cells": [
  {
   "cell_type": "code",
   "execution_count": 1,
   "metadata": {},
   "outputs": [],
   "source": [
    "#a function to ask for gdp, population and land mass to give the state-info."
   ]
  },
  {
   "cell_type": "code",
   "execution_count": 1,
   "metadata": {},
   "outputs": [],
   "source": []
  },
  {
   "cell_type": "code",
   "execution_count": 2,
   "metadata": {},
   "outputs": [],
   "source": [
    "def stateInfo():\n",
    "    state=str(input(\"what's the name of the state?\"))\n",
    "    pop=float(input(\"what's the current population?\"))\n",
    "    landMass=float(input(\"what's the land mass?\"))\n",
    "    gdp=float(input(\"what's the value of gdp?\"))\n",
    "    pc=(gdp*1000000000)/(pop*1000000)\n",
    "    pd=(pop*1000000)/(landMass*1000)\n",
    "    \n",
    "    print(f\"the population density of {state} is {pd} per capita income is NGN{pc}.\")"
   ]
  },
  {
   "cell_type": "code",
   "execution_count": 3,
   "metadata": {},
   "outputs": [
    {
     "name": "stdout",
     "output_type": "stream",
     "text": [
      "what's the name of the state?abia\n",
      "what's the current population?90000\n",
      "what's the land mass?30000\n",
      "what's the value of gdp?1000\n",
      "the population density of abia is 3000.0 per capita income is NGN11.11111111111111.\n"
     ]
    }
   ],
   "source": [
    "stateInfo()"
   ]
  },
  {
   "cell_type": "code",
   "execution_count": 19,
   "metadata": {},
   "outputs": [],
   "source": [
    "def callFn():\n",
    "    pop=float(input('enter pop'))\n",
    "    landMass=float(input('enter landMass'))\n",
    "    pd=(pop*1000000)/(landMass*1000)\n",
    "    \n",
    "    print(pd)"
   ]
  },
  {
   "cell_type": "code",
   "execution_count": null,
   "metadata": {},
   "outputs": [],
   "source": []
  },
  {
   "cell_type": "code",
   "execution_count": 20,
   "metadata": {},
   "outputs": [],
   "source": [
    "def callFn2():\n",
    "    cFn=callFn()\n",
    "    print(f'answer is {cFn}')"
   ]
  },
  {
   "cell_type": "code",
   "execution_count": 21,
   "metadata": {},
   "outputs": [
    {
     "name": "stdout",
     "output_type": "stream",
     "text": [
      "enter pop70.8\n",
      "enter landMass5.8\n",
      "12206.896551724138\n",
      "answer is None\n"
     ]
    }
   ],
   "source": [
    "callFn2()"
   ]
  },
  {
   "cell_type": "code",
   "execution_count": null,
   "metadata": {},
   "outputs": [],
   "source": [
    "print('hello')"
   ]
  },
  {
   "cell_type": "code",
   "execution_count": null,
   "metadata": {},
   "outputs": [],
   "source": []
  }
 ],
 "metadata": {
  "kernelspec": {
   "display_name": "Python 3",
   "language": "python",
   "name": "python3"
  },
  "language_info": {
   "codemirror_mode": {
    "name": "ipython",
    "version": 3
   },
   "file_extension": ".py",
   "mimetype": "text/x-python",
   "name": "python",
   "nbconvert_exporter": "python",
   "pygments_lexer": "ipython3",
   "version": "3.7.3"
  }
 },
 "nbformat": 4,
 "nbformat_minor": 2
}
