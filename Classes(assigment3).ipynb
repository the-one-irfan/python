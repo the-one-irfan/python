{
 "cells": [
  {
   "cell_type": "code",
   "execution_count": 1,
   "metadata": {},
   "outputs": [],
   "source": [
    "class ClassEconomy:\n",
    "    def __init__(self,pop,rev,lndMass):\n",
    "        self.population = pop\n",
    "        self.revenue = rev\n",
    "        self.landmass = lndMass\n",
    "    \n",
    "    \n",
    "            \n",
    "    def per_capita(self):\n",
    "        return 'NGN' + str(self.revenue / self.population)\n",
    "    \n",
    "    def percentPop(self):\n",
    "        return str((self.population/195900000)*100) + '%'        "
   ]
  },
  {
   "cell_type": "code",
   "execution_count": 2,
   "metadata": {},
   "outputs": [],
   "source": [
    "lagos = ClassEconomy(9000000, 204510000000, 1171)\n",
    "kano = ClassEconomy(4000000, 40600000000, 20131)\n",
    "anambra = ClassEconomy(4177828, 26000000000, 26000)\n",
    "bayelsa = ClassEconomy(1704515, 1200000000, 10773)"
   ]
  },
  {
   "cell_type": "code",
   "execution_count": 5,
   "metadata": {},
   "outputs": [
    {
     "data": {
      "text/plain": [
       "'2.1326329760081673%'"
      ]
     },
     "execution_count": 5,
     "metadata": {},
     "output_type": "execute_result"
    }
   ],
   "source": [
    "anambra.percentPop()"
   ]
  },
  {
   "cell_type": "code",
   "execution_count": null,
   "metadata": {},
   "outputs": [],
   "source": [
    "#Create a class called ClassEconomy.\n",
    "\n",
    "#Let it hold Population, Revenue and Landmass as attributes.\n",
    "\n",
    "#It should have these as objects: Lagos, Kano, Anambra, Bayelsa.\n",
    "\n",
    "#Define class methods(each) for the following\n",
    "#1. For calculating per-capita income.\n",
    "#2. For calculating the percentge of the state's population makes up Nigeria's."
   ]
  }
 ],
 "metadata": {
  "kernelspec": {
   "display_name": "Python 3",
   "language": "python",
   "name": "python3"
  },
  "language_info": {
   "codemirror_mode": {
    "name": "ipython",
    "version": 3
   },
   "file_extension": ".py",
   "mimetype": "text/x-python",
   "name": "python",
   "nbconvert_exporter": "python",
   "pygments_lexer": "ipython3",
   "version": "3.7.3"
  }
 },
 "nbformat": 4,
 "nbformat_minor": 2
}
