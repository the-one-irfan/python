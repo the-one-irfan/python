{
 "cells": [
  {
   "cell_type": "code",
   "execution_count": 9,
   "metadata": {
    "collapsed": true
   },
   "outputs": [
    {
     "ename": "IndentationError",
     "evalue": "expected an indented block (<ipython-input-9-ca75eb58e350>, line 44)",
     "output_type": "error",
     "traceback": [
      "\u001b[1;36m  File \u001b[1;32m\"<ipython-input-9-ca75eb58e350>\"\u001b[1;36m, line \u001b[1;32m44\u001b[0m\n\u001b[1;33m    while answer not in answerMem:\u001b[0m\n\u001b[1;37m        ^\u001b[0m\n\u001b[1;31mIndentationError\u001b[0m\u001b[1;31m:\u001b[0m expected an indented block\n"
     ]
    }
   ],
   "source": [
    "account_data_details = {'databalance':0}\n",
    "account_credit_details = {'creditbalance':0}\n",
    "\n",
    "USSD_list = ['*141#', '*140#', '*140*50#', '*140*100#', '*140*200#', '*140*300#', '*140*500# ', '*140*1000#']     \n",
    "USSDinput = input ('enter USSD code.')\n",
    "\n",
    "#display major service operations...\n",
    "if USSDinput == USSD_list[0]:\n",
    "#-------------------\n",
    "    \n",
    "    service_options = input ('''\n",
    "1. Data\n",
    "2. Credit\n",
    "'''\n",
    ")\n",
    "   \n",
    "    if service_options == '1': \n",
    "        data_plan = str(input ('''\n",
    "\n",
    "1 for 20MB at NGN50 (1 day)\n",
    "2 for 75MB at NGN100 (1 day)\n",
    "3 for 200MB at NGN200 (3 days)\n",
    "4 for 350MB at NGN300 (7 days)\n",
    "5 for 750MB at NGN500 (14 days)\n",
    "6 for 1.5GB at NGN1000 (1 month)\n",
    "0 to go back to previous menu\n",
    "# to end transaction\n",
    "'''))\n",
    "        option_chosen = {'Data_plan':['1','2','3','4','5','6'], \n",
    "                         'alt_options':['0','#']}\n",
    "        \n",
    "    if data_plan in option_chosen['Data_plan']:\n",
    "\n",
    "        data_list = ['0', '20MB', '75MB', '200MB', '350MB', '750MB', '1.5GB']\n",
    "        data_validity = ['0', '1 day', '1 day', '3 days', '7 days', '14 days', '1 month']        \n",
    "        print (f'you have successfully purchased { data_list[data_plan]} data, valid for {data_validity[data_plan]}.')\n",
    "        for data_balance in account_data_details['data balance']:\n",
    "            account_data_details['data balance'][data_balance] = data_list[data_plan]\n",
    "\n",
    "    while data_plan == option_chosen['alt_options'][0]:\n",
    "            \n",
    "\n",
    "                \n",
    "answerMem = [1, 2] \n",
    "answer_input = input('would you like to do anything else? \\n1. Yes \\n2. No')\n",
    "\n",
    "while answer_input == answerMem[0]:\n",
    "    USSDinput = input ('enter USSD code.')\n",
    "    \n",
    "if answer_input == answerMem[1]:\n",
    "    print('Alright then. See you next time.')\n",
    "    \n",
    "while answer_input not in answerMem:\n",
    "    print(f'Invalid input. You typed {answer_input}. Type in \"1\" for \"Yes\" or \"2\" for \"No\".')\n",
    "    answer_input = input('would you like to do anything else? \\n1. Yes \\n2. No')\n",
    "\n",
    "\n",
    "while answer not in answerMem:\n",
    "    print(f'Invalid input. you typed in {answer_input}. Enter \"1\" for \"Yes\", \"2\" for \"No\".')\n",
    "    answer_input = input('would you like to do anything else? \\n1. Yes \\n2. No')\n",
    "\n",
    "    if service_options == '2':\n",
    "        credit_amt = input ('how much credit would you like to purchase?')\n",
    "        print(f'you have successfully purchased NGN {credit_amt} credit.') \n",
    "        \n",
    "    answerMem = [1, 2] \n",
    "    answer_input = input('would you like to do anything else? \\n1. Yes \\n2. No')\n",
    "    while answer not in answerMem:\n",
    "        print(f'Invalid input. you typed in {answer_input}. Enter \"1\" for \"Yes\", \"2\" for \"No\".')\n",
    "        answer_input = input('would you like to do anything else? \\n1. Yes \\n2. No')\n",
    "        \n",
    "if USSDinput == USSD_list[1]:\n",
    "    print (account_data_details['databalance'])\n",
    "    answerMem = [1, 2] \n",
    "    answer_input = input('would you like to do anything else? \\n1. Yes \\n2. No')\n",
    "    while answer == answerMem[0]:\n",
    "            service_options = input ('''\n",
    "1. Data\n",
    "2. Credit\n",
    "'''\n",
    ")\n",
    "    if answer == answerMem[1]:\n",
    "        print('Alright then. See you next time.')\n",
    "    \n",
    "    while answer not in answerMem:\n",
    "        print(f'Invalid input. you typed in {answer_input}. Enter \"1\" for \"Yes\", \"2\" for \"No\".')\n",
    "        answer_input = input('would you like to do anything else? \\n1. Yes \\n2. No')\n",
    "    \n",
    "\n",
    "if USSDinput == USSD_list[2]:\n",
    "    print('You have successfully purchased 20MB data plan valid for one day.')\n",
    "       \n",
    "if USSDinput == USSD_list[3]:  \n",
    "    print('You have successfully purchased 50MB data plan valid for one day.')\n",
    "       \n",
    "if USSDinput == USSD_list[4]:\n",
    "    print('You have successfully purchased 200MB data plan valid for three days.')\n",
    "       \n",
    "if enter == USSD_list[5]:\n",
    "    print('You have successfully purchased 350MB data plan valid for seven days.')\n",
    "         \n",
    "if USSDinput == USSD_list[6]:\n",
    "    print('You have successfully purchased 750MB data plan valid for one days.')\n",
    "       \n",
    "if USSDinput == USSD_list[7]:\n",
    "    print('You have successfully purchased 1.5GB data plan valid for one day.')\n",
    "       \n",
    "while enter not in USSD_list: \n",
    "    print (f'invalid input. You entered {enter}. Type in *141# for any service operations you might want to carry out or *141*the data bundle you \\nwish to buy# to directly purchase a data plan.')\n",
    "    enter = input ('enter USSD code.') \n",
    "    \n",
    "    "
   ]
  },
  {
   "cell_type": "code",
   "execution_count": 1,
   "metadata": {
    "collapsed": true
   },
   "outputs": [
    {
     "data": {
      "text/plain": [
       "'4'"
      ]
     },
     "execution_count": 1,
     "metadata": {},
     "output_type": "execute_result"
    }
   ],
   "source": []
  },
  {
   "cell_type": "code",
   "execution_count": null,
   "metadata": {},
   "outputs": [],
   "source": []
  }
 ],
 "metadata": {
  "celltoolbar": "Attachments",
  "kernelspec": {
   "display_name": "Python 3",
   "language": "python",
   "name": "python3"
  },
  "language_info": {
   "codemirror_mode": {
    "name": "ipython",
    "version": 3
   },
   "file_extension": ".py",
   "mimetype": "text/x-python",
   "name": "python",
   "nbconvert_exporter": "python",
   "pygments_lexer": "ipython3",
   "version": "3.7.3"
  }
 },
 "nbformat": 4,
 "nbformat_minor": 2
}
