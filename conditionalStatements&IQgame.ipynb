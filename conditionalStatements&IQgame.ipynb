{
 "cells": [
  {
   "cell_type": "code",
   "execution_count": null,
   "metadata": {},
   "outputs": [],
   "source": [
    "#conditional statements."
   ]
  },
  {
   "cell_type": "code",
   "execution_count": 1,
   "metadata": {},
   "outputs": [
    {
     "name": "stdout",
     "output_type": "stream",
     "text": [
      "b is greater than a\n"
     ]
    }
   ],
   "source": [
    "a=10\n",
    "b=56\n",
    "\n",
    "if a>b: print('a is greater than b')\n",
    "if b>a: print('b is greater than a')"
   ]
  },
  {
   "cell_type": "code",
   "execution_count": null,
   "metadata": {},
   "outputs": [],
   "source": [
    "i=7\n",
    "while i>7:\n",
    "    print(i)\n",
    "    \n",
    "    "
   ]
  },
  {
   "cell_type": "code",
   "execution_count": null,
   "metadata": {},
   "outputs": [],
   "source": [
    "age=6\n",
    "cgpa=2.5\n",
    "price=50000\n",
    "\n",
    "if age>= 18:\n",
    "    print(f\"you have won {price}\")\n",
    "    \n",
    "elif age>15 and age<18:\n",
    "        print('you have won 16000')\n",
    "else:\n",
    "    print(\"Sorry, you do not qualify\")"
   ]
  },
  {
   "cell_type": "code",
   "execution_count": null,
   "metadata": {},
   "outputs": [],
   "source": [
    "print('hello')"
   ]
  },
  {
   "cell_type": "code",
   "execution_count": null,
   "metadata": {},
   "outputs": [],
   "source": [
    "password= 'earlycode34'"
   ]
  },
  {
   "cell_type": "code",
   "execution_count": null,
   "metadata": {},
   "outputs": [],
   "source": [
    "result=[45,73,56,87,98]\n",
    "for scores in result:\n",
    "    new_result=scores+5\n",
    "    print(new_result)"
   ]
  },
  {
   "cell_type": "code",
   "execution_count": null,
   "metadata": {},
   "outputs": [],
   "source": [
    "gst101= {\"emmy\":87, \"gabriel\":65}\n",
    "for studentResults in gst101:\n",
    "    newScore= gst101[values]+5\n",
    "    print(f'{studentResults} new result: {newScore}')"
   ]
  },
  {
   "cell_type": "code",
   "execution_count": 25,
   "metadata": {},
   "outputs": [
    {
     "name": "stdout",
     "output_type": "stream",
     "text": [
      "Hello!\n",
      "here to take an I.Q test? well you've come to the right place.\n",
      "just type in your age below and we'll begin.\n",
      "    \n",
      "what is your age? \n",
      "12\n",
      "alright then, let's begin.\n",
      "\n",
      "Question 1\n",
      "what is the complete number of teeth for an adult?\n",
      "435\n",
      "wrong answer :( you have no points...\n",
      "\n",
      "Question 2\n",
      "how many days make a leap year? \n",
      "65267\n",
      "wrong answer :( you have no points...\n",
      "\n",
      "Question 3\n",
      "what is the name of the world's highest mountain?\n",
      "826\n",
      "wrong answer :( you have no points...\n",
      "\n",
      "Question 4\n",
      "when did nigeria get independence?7265\n",
      "wrong answer :( you have no points...\n",
      "\n",
      "Question 5\n",
      "how many states are in Nigeria?25\n",
      "wrong answer :( you have no points...\n",
      "your IQ is0.0\n"
     ]
    }
   ],
   "source": [
    "#game to calculate I.Q\n",
    "print('''Hello!\n",
    "here to take an I.Q test? well you've come to the right place.\n",
    "just type in your age below and we'll begin.\n",
    "    ''')\n",
    "chronologicalAge=int(input('what is your age? \\n'))\n",
    "gameResult=[]\n",
    "\n",
    "print('alright then, let\\'s begin.')\n",
    "print('\\nQuestion 1')\n",
    "q1=input('what is the complete number of teeth for an adult?\\n')\n",
    "if q1=='32':\n",
    "    print('correct! you have ten points!') \n",
    "    gameResult.append(10)\n",
    "    \n",
    "else:\n",
    "    print('wrong answer :( you have no points...')\n",
    "    gameResult.append(0)\n",
    "print('\\nQuestion 2')   \n",
    "q2=input('how many days make a leap year? \\n')\n",
    "if q2=='366':\n",
    "     print('correct! you have ten points!') \n",
    "     gameResult.append(10)\n",
    "else:\n",
    "    print('wrong answer :( you have no points...')\n",
    "    gameResult.append(0)\n",
    "print('\\nQuestion 3')    \n",
    "q3=input('what is the name of the world\\'s highest mountain?\\n')\n",
    "if q3=='everest':\n",
    "     print('correct! you have ten points!') \n",
    "     gameResult.append(10)\n",
    "else:\n",
    "    print('wrong answer :( you have no points...')\n",
    "    gameResult.append(0)\n",
    "print('\\nQuestion 4') \n",
    "q4=input('when did nigeria get independence?')   \n",
    "if q4=='1960':\n",
    "     print('correct! you have ten points!') \n",
    "     gameResult.append(10)\n",
    "else:\n",
    "    print('wrong answer :( you have no points...')\n",
    "    gameResult.append(0)\n",
    "print('\\nQuestion 5') \n",
    "q5=input('how many states are in Nigeria?')\n",
    "if q5=='36':\n",
    "     print('correct! you have ten points!') \n",
    "     gameResult.append(10)\n",
    "else:\n",
    "    print('wrong answer :( you have no points...')\n",
    "    gameResult.append(0)\n",
    " \n",
    "    \n",
    "mentalAge=sum(gameResult)\n",
    "\n",
    "iq=(mentalAge/chronologicalAge)*100\n",
    "print('your IQ is'+ str(iq))"
   ]
  },
  {
   "cell_type": "code",
   "execution_count": 17,
   "metadata": {},
   "outputs": [
    {
     "data": {
      "text/plain": [
       "[10, 10, 10, 10, 10]"
      ]
     },
     "execution_count": 17,
     "metadata": {},
     "output_type": "execute_result"
    }
   ],
   "source": [
    "gameResult"
   ]
  },
  {
   "cell_type": "code",
   "execution_count": 8,
   "metadata": {},
   "outputs": [
    {
     "name": "stdout",
     "output_type": "stream",
     "text": [
      "1\n"
     ]
    }
   ],
   "source": [
    "i=1\n",
    "while i<10:\n",
    "    print(i)\n",
    "    i==5\n",
    "    break\n",
    "    i+=1"
   ]
  },
  {
   "cell_type": "code",
   "execution_count": 8,
   "metadata": {},
   "outputs": [
    {
     "name": "stdout",
     "output_type": "stream",
     "text": [
      "hello\n"
     ]
    }
   ],
   "source": [
    "print('hello')"
   ]
  },
  {
   "cell_type": "code",
   "execution_count": 10,
   "metadata": {},
   "outputs": [
    {
     "name": "stdout",
     "output_type": "stream",
     "text": [
      "maryam: 63\n",
      "grace: 52\n",
      "pelumi: 25\n"
     ]
    }
   ],
   "source": [
    "studentScores={'maryam':58, 'grace':47, 'pelumi':20}\n",
    "for scores in studentScores:\n",
    "    newScores=studentScores[scores]+5\n",
    "   \n",
    "    print(f'{scores}: {newScores}')"
   ]
  },
  {
   "cell_type": "code",
   "execution_count": 13,
   "metadata": {},
   "outputs": [],
   "source": [
    "newDict={'emma':8001, \n",
    "         'wura':3216, \n",
    "         'carson':3447, \n",
    "         'victor':2323} "
   ]
  },
  {
   "cell_type": "code",
   "execution_count": 6,
   "metadata": {},
   "outputs": [
    {
     "name": "stdout",
     "output_type": "stream",
     "text": [
      "first sale700\n"
     ]
    }
   ],
   "source": [
    "amount={'cost':[], 'sales':[]}\n",
    "amount['cost'].append(int(input('first sale')))"
   ]
  },
  {
   "cell_type": "code",
   "execution_count": 7,
   "metadata": {},
   "outputs": [
    {
     "data": {
      "text/plain": [
       "{'cost': [700], 'sales': []}"
      ]
     },
     "execution_count": 7,
     "metadata": {},
     "output_type": "execute_result"
    }
   ],
   "source": [
    "amount"
   ]
  },
  {
   "cell_type": "code",
   "execution_count": null,
   "metadata": {},
   "outputs": [],
   "source": []
  }
 ],
 "metadata": {
  "kernelspec": {
   "display_name": "Python 3",
   "language": "python",
   "name": "python3"
  },
  "language_info": {
   "codemirror_mode": {
    "name": "ipython",
    "version": 3
   },
   "file_extension": ".py",
   "mimetype": "text/x-python",
   "name": "python",
   "nbconvert_exporter": "python",
   "pygments_lexer": "ipython3",
   "version": "3.7.3"
  }
 },
 "nbformat": 4,
 "nbformat_minor": 2
}
