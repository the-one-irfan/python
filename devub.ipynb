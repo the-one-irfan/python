account_data_details = {'databalance':0}
account_credit_details = {'creditbalance':0}

USSD_list = ['*141#', '*140#', '*140*50#', '*140*100#', '*140*200#', '*140*300#', '*140*500# ', '*140*1000#']     
USSDinput = input ('enter USSD code.')

#display major service operations...
if USSDinput == USSD_list[0]:
#-------------------
    
    service_options = input ('''
1. Data
2. Credit
'''
)
   
    if service_options == '1': 
        data_plan = str(input ('''

1 for 20MB at NGN50 (1 day)
2 for 75MB at NGN100 (1 day)
3 for 200MB at NGN200 (3 days)
4 for 350MB at NGN300 (7 days)
5 for 750MB at NGN500 (14 days)
6 for 1.5GB at NGN1000 (1 month)
0 to go back to previous menu
# to end transaction
'''))
        option_chosen = {'Data_plan':['1','2','3','4','5','6'], 
                         'alt_options':['0','#']}
        
    if data_plan in option_chosen['Data_plan']:

        data_list = ['0', '20MB', '75MB', '200MB', '350MB', '750MB', '1.5GB']
        data_validity = ['0', '1 day', '1 day', '3 days', '7 days', '14 days', '1 month']        
        print (f'you have successfully purchased { data_list[data_plan]} data, valid for {data_validity[data_plan]}.')
        for data_balance in account_data_details['data balance']:
            account_data_details['data balance'][data_balance] = data_list[data_plan]

    while data_plan == option_chosen['alt_options'][0]:
            
    
                
answerMem = [1, 2] 
answer_input = input('would you like to do anything else? \n1. Yes \n2. No')

while answer_input == answerMem[0]:
    USSDinput = input ('enter USSD code.')
    
if answer_input == answerMem[1]:
    print('Alright then. See you next time.')
    
while answer_input not in answerMem:
    print(f'Invalid input. You typed {answer_input}. Type in "1" for "Yes" or "2" for "No".')
    answer_input = input('would you like to do anything else? \n1. Yes \n2. No')


while answer not in answerMem:
    print(f'Invalid input. you typed in {answer_input}. Enter "1" for "Yes", "2" for "No".')
    answer_input = input('would you like to do anything else? \n1. Yes \n2. No')

    if service_options == '2':
        credit_amt = input ('how much credit would you like to purchase?')
        print(f'you have successfully purchased NGN {credit_amt} credit.') 
        
    answerMem = [1, 2] 
    answer_input = input('would you like to do anything else? \n1. Yes \n2. No')
    while answer not in answerMem:
        print(f'Invalid input. you typed in {answer_input}. Enter "1" for "Yes", "2" for "No".')
        answer_input = input('would you like to do anything else? \n1. Yes \n2. No')
        
if USSDinput == USSD_list[1]:
    print (account_data_details['databalance'])
    answerMem = [1, 2] 
    answer_input = input('would you like to do anything else? \n1. Yes \n2. No')
    while answer == answerMem[0]:
            service_options = input ('''
1. Data
2. Credit
'''
)
    if answer == answerMem[1]:
        print('Alright then. See you next time.')
    
    while answer not in answerMem:
        print(f'Invalid input. you typed in {answer_input}. Enter "1" for "Yes", "2" for "No".')
        answer_input = input('would you like to do anything else? \n1. Yes \n2. No')
    

if USSDinput == USSD_list[2]:
    print('You have successfully purchased 20MB data plan valid for one day.')
       
if USSDinput == USSD_list[3]:  
    print('You have successfully purchased 50MB data plan valid for one day.')
       
if USSDinput == USSD_list[4]:
    print('You have successfully purchased 200MB data plan valid for three days.')
       
if enter == USSD_list[5]:
    print('You have successfully purchased 350MB data plan valid for seven days.')
         
if USSDinput == USSD_list[6]:
    print('You have successfully purchased 750MB data plan valid for one days.')
       
if USSDinput == USSD_list[7]:
    print('You have successfully purchased 1.5GB data plan valid for one day.')
       
while enter not in USSD_list: 
    print (f'invalid input. You entered {enter}. Type in *141# for any service operations you might want to carry out or *141*the data bundle you \nwish to buy# to directly purchase a data plan.')
    enter = input ('enter USSD code.') 
    
    